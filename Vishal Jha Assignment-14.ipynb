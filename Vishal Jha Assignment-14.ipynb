{
 "cells": [
  {
   "cell_type": "code",
   "execution_count": 1,
   "id": "19458e2d-147d-4627-86e7-4038035094f5",
   "metadata": {},
   "outputs": [],
   "source": [
    "#1. What is multithreading in python? Why is it used? Name the module used to handle threads in python.\n",
    "\n",
    "#Ans\n",
    "\n",
    "#Multithreading in Python is a technique that allows a program to have multiple threads of execution within the same process. A thread is a lightweight subprocess that shares the same memory space as the main process and allows for parallel execution of code. Multithreading is used to improve the performance of a program by utilizing the available CPU resources more efficiently.\n",
    "\n",
    "#Multithreading can be used to perform multiple tasks simultaneously, such as fetching data from a remote server while updating a user interface. By splitting the program into smaller, concurrent threads, the program can run more efficiently and provide a better user experience.\n",
    "\n",
    "#Python provides a built-in module called \"threading\" to handle threads. The threading module allows you to create and manage threads in a Python program. It provides a high-level interface for creating threads and synchronizing their execution. The module provides several classes and functions for creating, starting, and managing threads, as well as for inter-thread communication and synchronization. The threading module is a part of the Python standard library and is available in all versions of Python."
   ]
  },
  {
   "cell_type": "code",
   "execution_count": 2,
   "id": "ebc0e9d8-a156-4c60-a29c-9a4ff9262cd4",
   "metadata": {},
   "outputs": [],
   "source": [
    "#2. Why threading module used? Write the use of the following functions:\n",
    "#1. activeCount()\n",
    "#2. currentThread()\n",
    "#3. enumerate()\n",
    "\n",
    "#Ans\n",
    "\n",
    "#The threading module in Python is used to create and manage threads in a program. It provides a high-level interface for creating threads and synchronizing their execution. The module provides several classes and functions for creating, starting, and managing threads, as well as for inter-thread communication and synchronization. The threading module is a part of the Python standard library and is available in all versions of Python.\n",
    "\n",
    "#The following are the uses of the specific functions in the threading module:\n",
    "\n",
    "#1 - activeCount(): This function returns the number of thread objects that are currently alive. It includes both daemon and non-daemon threads. This function is useful in determining how many threads are currently running and can be used for debugging purposes.\n",
    "\n",
    "#2 - currentThread(): This function returns a reference to the current thread object. The current thread is the thread that is currently executing the code. This function is useful for accessing and manipulating the current thread object.\n",
    "\n",
    "#3 - enumerate(): This function returns a list of all thread objects that are currently alive. It includes both daemon and non-daemon threads. This function is useful for determining the number of threads that are currently running and can be used for debugging purposes. The returned list of thread objects can be used to iterate over all the threads and perform operations on them, such as joining or terminating them."
   ]
  },
  {
   "cell_type": "code",
   "execution_count": 3,
   "id": "1edc98b8-0d32-492c-abca-a23723db482e",
   "metadata": {},
   "outputs": [],
   "source": [
    "#3. Explain the following functions:\n",
    "#1. run()\n",
    "#2. start()\n",
    "#3. join()\n",
    "#4. isAlive()\n",
    "\n",
    "#Ans\n",
    "\n",
    "#1 - run(): This function is called when a thread starts running. It contains the code that the thread will execute. You should not call this function directly. Instead, you should call the start() function which will in turn call the run() function.\n",
    "\n",
    "#2 - start(): This function starts the thread by calling the run() function. When start() is called, the thread will be added to the system scheduler and its run() method will be called at some point in the future.\n",
    "\n",
    "#3 - join(): This function blocks the current thread until the thread it is called on completes its execution. In other words, if you call join() on a thread, the current thread will wait until the other thread is done before continuing its own execution.\n",
    "\n",
    "#4 - isAlive(): This function returns a boolean value indicating whether or not the thread is still running. If the thread has finished executing, isAlive() will return False. If the thread is still executing, isAlive() will return True. This function can be useful if you want to wait for a thread to finish its execution or if you want to check whether a thread is still running."
   ]
  },
  {
   "cell_type": "code",
   "execution_count": 4,
   "id": "53181f25-9f16-45d5-b4b3-b545949b122a",
   "metadata": {},
   "outputs": [
    {
     "name": "stdout",
     "output_type": "stream",
     "text": [
      "1\n",
      "4\n",
      "9\n",
      "16\n",
      "25\n",
      "36\n",
      "49\n",
      "64\n",
      "81\n",
      "100\n",
      "1\n",
      "8\n",
      "27\n",
      "64\n",
      "125\n",
      "216\n",
      "343\n",
      "512\n",
      "729\n",
      "1000\n"
     ]
    }
   ],
   "source": [
    "#4. Write a python program to create two threads. Thread one must print the list of squares and thread two must print the list of cubes.\n",
    "\n",
    "#Ans\n",
    "\n",
    "import threading\n",
    "# Function to print list of squares\n",
    "def print_squares():\n",
    "    for i in range(1, 11):\n",
    "        print(i**2)\n",
    "# Function to print list of cubes\n",
    "def print_cubes():\n",
    "    for i in range(1, 11):\n",
    "        print(i**3)\n",
    "# Create two threads\n",
    "thread1 = threading.Thread(target=print_squares)\n",
    "thread2 = threading.Thread(target=print_cubes)\n",
    "# Start both threads\n",
    "thread1.start()\n",
    "thread2.start()\n",
    "# Wait for both threads to finish\n",
    "thread1.join()\n",
    "thread2.join()"
   ]
  },
  {
   "cell_type": "code",
   "execution_count": 5,
   "id": "3d0023a0-92ff-4371-8a75-62cbf8f40d9d",
   "metadata": {},
   "outputs": [],
   "source": [
    "#5. State advantages and disadvantages of multithreading.\n",
    "\n",
    "#Ans\n",
    "\n",
    "#Advantages of multithreading:\n",
    "\n",
    "#1 - Improved performance: Multithreading can help improve the overall performance of a program by allowing multiple threads to execute concurrently. This can result in faster processing times and better resource utilization.\n",
    "\n",
    "#2 - Enhanced responsiveness: Multithreading can enhance the responsiveness of a program by allowing certain operations to occur in the background while the user continues to interact with the program.\n",
    "\n",
    "#3 - Resource sharing: Multiple threads can share resources such as memory and CPU time, which can result in more efficient use of system resources.\n",
    "\n",
    "#4 - Scalability: Multithreading can help improve the scalability of a program by allowing it to better utilize multiple cores or processors.\n",
    "\n",
    "#Disadvantages of multithreading:\n",
    "\n",
    "#1 - Increased complexity: Multithreaded programs are more complex than single-threaded programs, and can be more difficult to design, implement, and debug.\n",
    "\n",
    "#2 - Synchronization overhead: When multiple threads access shared resources, they need to be properly synchronized to avoid race conditions and data inconsistencies. This can add overhead and complexity to the program.\n",
    "\n",
    "#3 - Deadlocks: When multiple threads are waiting for each other to release resources, a deadlock can occur, causing the program to hang or crash.\n",
    "\n",
    "#4 - Debugging challenges: Debugging multithreaded programs can be more difficult than debugging single-threaded programs because of the non-deterministic nature of thread execution."
   ]
  },
  {
   "cell_type": "code",
   "execution_count": 8,
   "id": "4b2a4ad8-1ca2-4008-ae8f-aa546f1a5ac0",
   "metadata": {},
   "outputs": [],
   "source": [
    "#6. Explain deadlocks and race conditions.\n",
    "\n",
    "#Ans\n",
    "\n",
    "#Deadlocks:\n",
    "#A deadlock occurs when two or more threads are blocked, waiting for each other to release a resource that they need to proceed. This can happen when two threads each hold a resource that the other needs, and neither is able to release their resource until they get the other one. This creates a circular wait, where neither thread can make progress.\n",
    "\n",
    "#Race conditions:\n",
    "#A race condition occurs when two or more threads access a shared resource at the same time, and the order in which they access it is not predictable. This can result in unpredictable behavior, as the final outcome depends on the exact timing of the threads."
   ]
  },
  {
   "cell_type": "code",
   "execution_count": null,
   "id": "e58c7b52-1029-4983-bdc3-cccf79c6544a",
   "metadata": {},
   "outputs": [],
   "source": []
  }
 ],
 "metadata": {
  "kernelspec": {
   "display_name": "Python 3 (ipykernel)",
   "language": "python",
   "name": "python3"
  },
  "language_info": {
   "codemirror_mode": {
    "name": "ipython",
    "version": 3
   },
   "file_extension": ".py",
   "mimetype": "text/x-python",
   "name": "python",
   "nbconvert_exporter": "python",
   "pygments_lexer": "ipython3",
   "version": "3.10.8"
  }
 },
 "nbformat": 4,
 "nbformat_minor": 5
}
